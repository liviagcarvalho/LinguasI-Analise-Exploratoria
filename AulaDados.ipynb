{
 "cells": [
  {
   "cell_type": "markdown",
   "metadata": {},
   "source": [
    "kickoff - dor do cliente\n",
    "Data Contract(tabela para compreensao de dados) - nome, tipo e descricao;"
   ]
  },
  {
   "cell_type": "markdown",
   "metadata": {},
   "source": [
    "\n",
    "Analise Univariada (cada consultor faz individualmente de cada variavel) - analisar o comportamento de cada variavel isoladamente;\n",
    "data.describe() - visao geral\n",
    "data[\"....\"].value_counts(normalize=True)\n",
    "desvio padrao/ media = coeficiente de variacao"
   ]
  },
  {
   "cell_type": "markdown",
   "metadata": {},
   "source": [
    "tratamento de dados;\n",
    "Completamente ao acaso- dados ausentes aleatórios - para tratar usar: media, mediana ou moda\n",
    "Condicionamente ao acaso - dados susentes de uma pop especifica (renda x ano) - usar modelo para imputar como MNN imputer, ou um modelo de machine learning como regressao linear \n",
    "Nao ao acaso- ausencia da renda depende da renda - tranformar em Condicionamente ao acaso com outras perguntas ou em casas extremos fazer chute"
   ]
  },
  {
   "cell_type": "markdown",
   "metadata": {},
   "source": [
    "arvore de hipoteses; - montar novas variaveis a partir da sua (feature engeneering) se precisar, descutir ideias no coletivo -\n",
    "Analise bivariada (tambem olha pra pra corr e mais profunda); - ferramentaas: correlacao de pearson (linear) x spearman (nao linear) - PLOTAR GRAFICO antes de aplicar\n",
    "Entrega\n"
   ]
  },
  {
   "cell_type": "markdown",
   "metadata": {},
   "source": [
    "Teste de hipotese: real ou sorte/acaso?\n",
    "H0 - antes = depois\n",
    "H1 - antes =! depois\n",
    "p_valor -\n",
    "alpha(nivel de significancia - 5% - limite para rejeitar)\n",
    "t-teste (diferenca das medias/ erro padrao) com o t\n",
    "\n",
    "pdf (prob de observar outros ts, calcula a area critica e depois calcula p valor ), cdf ...\n",
    "\n",
    "\n",
    "maneiras de fazer o t-teste\n",
    "valor fixo \n",
    "dois grupos \n",
    "antes e depois"
   ]
  },
  {
   "cell_type": "markdown",
   "metadata": {},
   "source": [
    "### MACHINE LEARNING"
   ]
  },
  {
   "cell_type": "markdown",
   "metadata": {},
   "source": [
    "Supervisionado = modelo com dados rotulados para classificar variavel a - regressao linear (reta que minimiza o erro quadrado - ajuste para minimizar erros) -sensivel a outliers  e nao captura relacoes nao lineares\n",
    "classificacao = prob\n",
    "\n",
    "Arvore de decisao  - cortando dados para dividir o erro padrao - diminuir entropia (reduzir variancia) - captar relacoes nao lineares e complexas entre variaveis - sempre overfitting (para prever isso usar limite de profundidade)\n",
    "random forest, gradient boosting, XGBoost, LightGBM\n",
    "\n",
    "\n",
    "Nao Supervisionado = dados sem rotulos para encontrar estruturas , agrupamentos - clusterizacao "
   ]
  }
 ],
 "metadata": {
  "language_info": {
   "name": "python"
  }
 },
 "nbformat": 4,
 "nbformat_minor": 2
}
