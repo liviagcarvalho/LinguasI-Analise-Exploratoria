{
 "cells": [
  {
   "cell_type": "code",
   "execution_count": 3,
   "metadata": {},
   "outputs": [
    {
     "name": "stdout",
     "output_type": "stream",
     "text": [
      "Antes da correção: ['Espanhol' 'Ingles' 'Ingres' 'Mandarim']\n",
      "Depois da correção: ['Espanhol' 'Ingles' 'Mandarim']\n"
     ]
    }
   ],
   "source": [
    "import pandas as pd\n",
    "\n",
    "# 1. Carregar o arquivo CSV\n",
    "df = pd.read_csv(\"Aulas.csv\")\n",
    "\n",
    "# 2. Exibir valores únicos da coluna 'tipo' para checar o erro\n",
    "print(\"Antes da correção:\", df[\"tipo\"].unique())\n",
    "\n",
    "# 3. Corrigir \"Ingres\" para \"Inglês\"\n",
    "df[\"tipo\"] = df[\"tipo\"].replace(\"Ingres\", \"Ingles\")\n",
    "\n",
    "# 4. Verificar se a correção foi feita\n",
    "print(\"Depois da correção:\", df[\"tipo\"].unique())\n",
    "\n",
    "df.to_csv(\"Aulas_corrigido.csv\", index=False)\n"
   ]
  },
  {
   "cell_type": "code",
   "execution_count": null,
   "metadata": {},
   "outputs": [],
   "source": []
  }
 ],
 "metadata": {
  "kernelspec": {
   "display_name": "base",
   "language": "python",
   "name": "python3"
  },
  "language_info": {
   "codemirror_mode": {
    "name": "ipython",
    "version": 3
   },
   "file_extension": ".py",
   "mimetype": "text/x-python",
   "name": "python",
   "nbconvert_exporter": "python",
   "pygments_lexer": "ipython3",
   "version": "3.11.5"
  }
 },
 "nbformat": 4,
 "nbformat_minor": 2
}
